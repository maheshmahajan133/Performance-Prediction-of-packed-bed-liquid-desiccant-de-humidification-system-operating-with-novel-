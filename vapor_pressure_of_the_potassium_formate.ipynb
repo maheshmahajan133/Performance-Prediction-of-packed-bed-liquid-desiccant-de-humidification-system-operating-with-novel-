{
  "nbformat": 4,
  "nbformat_minor": 0,
  "metadata": {
    "colab": {
      "name": "vapor pressure of the potassium formate.ipynb",
      "provenance": [],
      "authorship_tag": "ABX9TyPygiXZR6MMg74GouLARpPx",
      "include_colab_link": true
    },
    "kernelspec": {
      "name": "python3",
      "display_name": "Python 3"
    },
    "language_info": {
      "name": "python"
    }
  },
  "cells": [
    {
      "cell_type": "markdown",
      "metadata": {
        "id": "view-in-github",
        "colab_type": "text"
      },
      "source": [
        "<a href=\"https://colab.research.google.com/github/maheshmahajan133/Performance-Prediction-of-packed-bed-liquid-desiccant-de-humidification-system-operating-with-novel-/blob/main/vapor_pressure_of_the_potassium_formate.ipynb\" target=\"_parent\"><img src=\"https://colab.research.google.com/assets/colab-badge.svg\" alt=\"Open In Colab\"/></a>"
      ]
    },
    {
      "cell_type": "code",
      "execution_count": 13,
      "metadata": {
        "colab": {
          "base_uri": "https://localhost:8080/"
        },
        "id": "cUMOa6ZSCdMd",
        "outputId": "1c2d805a-62bc-49c6-8601-ab18319c5f56"
      },
      "outputs": [
        {
          "output_type": "execute_result",
          "data": {
            "text/plain": [
              "10330.681237342287"
            ]
          },
          "metadata": {},
          "execution_count": 13
        }
      ],
      "source": [
        "import math\n",
        "import cmath\n",
        "import numpy as np\n",
        "M_t=18.015\n",
        "M_CHKO2=84.11\n",
        "\n",
        "x_m=1/(1+(M_t*x/(M_CHKO2*(1-x))))\n",
        "\n",
        "A=-2.08-(1336/(t_des+273.15))\n",
        "B=-3.42-(1039/(t_des+273.15))\n",
        "Z=A*x_m/(A*x_m+B*(1-x_m))\n",
        "gamma=A*(1-Z)**2*(1+4.19*Z*(Z-2/3))\n",
        "ps_water_temp=73.649-(7258.2/(t_des+273.15))-7.3037*np.log((t_des+273.15))+0.0000041653*(t_des+273.15)**2  #Pa\n",
        "pressure_solution_conc_temp=x_m*math.exp(gamma)*math.exp(ps_water_temp)  #Pa\n",
        "pressure_solution_conc_temp\n",
        "\n"
      ]
    }
  ]
}