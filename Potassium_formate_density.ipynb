{
  "nbformat": 4,
  "nbformat_minor": 0,
  "metadata": {
    "colab": {
      "name": "Potassium formate density.ipynb",
      "provenance": [],
      "authorship_tag": "ABX9TyNEOvGFof5zwVZMBteVcJHO",
      "include_colab_link": true
    },
    "kernelspec": {
      "name": "python3",
      "display_name": "Python 3"
    },
    "language_info": {
      "name": "python"
    }
  },
  "cells": [
    {
      "cell_type": "markdown",
      "metadata": {
        "id": "view-in-github",
        "colab_type": "text"
      },
      "source": [
        "<a href=\"https://colab.research.google.com/github/maheshmahajan133/Performance-Prediction-of-packed-bed-liquid-desiccant-de-humidification-system-operating-with-novel-/blob/main/Potassium_formate_density.ipynb\" target=\"_parent\"><img src=\"https://colab.research.google.com/assets/colab-badge.svg\" alt=\"Open In Colab\"/></a>"
      ]
    },
    {
      "cell_type": "code",
      "execution_count": 1,
      "metadata": {
        "id": "5IgnpNnLHLSV"
      },
      "outputs": [],
      "source": [
        "\n",
        "rho_l=1004-0.1191*t_des-0.002*t_des**2+5.62*x+0.02616*x**2-0.005975*x*t_des"
      ]
    }
  ]
}