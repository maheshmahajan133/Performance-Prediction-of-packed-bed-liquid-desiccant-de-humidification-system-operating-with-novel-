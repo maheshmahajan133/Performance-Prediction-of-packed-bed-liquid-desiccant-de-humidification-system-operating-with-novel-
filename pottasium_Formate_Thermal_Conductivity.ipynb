{
  "nbformat": 4,
  "nbformat_minor": 0,
  "metadata": {
    "colab": {
      "name": "pottasium Formate Thermal Conductivity.ipynb",
      "provenance": [],
      "authorship_tag": "ABX9TyMgxXB+IS0noziRqbgEDKEX",
      "include_colab_link": true
    },
    "kernelspec": {
      "name": "python3",
      "display_name": "Python 3"
    },
    "language_info": {
      "name": "python"
    }
  },
  "cells": [
    {
      "cell_type": "markdown",
      "metadata": {
        "id": "view-in-github",
        "colab_type": "text"
      },
      "source": [
        "<a href=\"https://colab.research.google.com/github/maheshmahajan133/Performance-Prediction-of-packed-bed-liquid-desiccant-de-humidification-system-operating-with-novel-/blob/main/pottasium_Formate_Thermal_Conductivity.ipynb\" target=\"_parent\"><img src=\"https://colab.research.google.com/assets/colab-badge.svg\" alt=\"Open In Colab\"/></a>"
      ]
    },
    {
      "cell_type": "code",
      "execution_count": 1,
      "metadata": {
        "id": "IMGYTxqHJKho"
      },
      "outputs": [],
      "source": [
        "x=0.4\n",
        "t_des=27.0\n",
        "ther_condu_solu=0.5646-0.001772*t_des-0.000006283*t_des**2+1.669*10**(-7)*t_des**3-2.778*10**(-9)*t_des**4-0.001881*x+0.00003667*x**2-0.000001146*x**3+7.514*10**(-9)*x**4-0.00002249*t_des*x+2.132*10**(-7)*t_des*x**2+2.829*10**(-10)*t_des*x**3-3.332*10**(-7)*t_des**2*x+1.235*10**(-8)*t_des**2*x**2-1.159*10**(-10)*t_des**2*x**3+7.659*10**(-9)*t_des**3*x-1.397*10**(-10)*t_des**3*x**2"
      ]
    }
  ]
}