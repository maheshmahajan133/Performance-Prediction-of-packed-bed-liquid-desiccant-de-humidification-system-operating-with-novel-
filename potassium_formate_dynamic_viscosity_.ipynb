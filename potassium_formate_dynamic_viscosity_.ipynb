{
  "nbformat": 4,
  "nbformat_minor": 0,
  "metadata": {
    "colab": {
      "name": "potassium formate dynamic viscosity .ipynb",
      "provenance": [],
      "authorship_tag": "ABX9TyN67C18ZDBB/UThKrNbOVa2",
      "include_colab_link": true
    },
    "kernelspec": {
      "name": "python3",
      "display_name": "Python 3"
    },
    "language_info": {
      "name": "python"
    }
  },
  "cells": [
    {
      "cell_type": "markdown",
      "metadata": {
        "id": "view-in-github",
        "colab_type": "text"
      },
      "source": [
        "<a href=\"https://colab.research.google.com/github/maheshmahajan133/Performance-Prediction-of-packed-bed-liquid-desiccant-de-humidification-system-operating-with-novel-/blob/main/potassium_formate_dynamic_viscosity_.ipynb\" target=\"_parent\"><img src=\"https://colab.research.google.com/assets/colab-badge.svg\" alt=\"Open In Colab\"/></a>"
      ]
    },
    {
      "cell_type": "code",
      "execution_count": 3,
      "metadata": {
        "id": "pMBRJGa_LzGC"
      },
      "outputs": [],
      "source": [
        "\n",
        "visco_solu=(1.754-0.07023*0.002794*t_des**2-0.0001236*t_des**3+0.000003162*t_des**4-3.158*10**(-8)*t_des**5+0.04564*x-0.004578*x**2+0.0003114*x**3-0.000008289*x**4+8.078*10**(-8)*x**5+0.0009856*t_des*x-0.00011305598*t_des*x**2+0.000006756*t_des**2*x-4.128*10**(-7)*t_des**2*x**2+1.983*10**(-8)*t_des**2*x**3+5.727*10**(-9)*t_des**3*x-1.188*10**(-8)*t_des**3*x**2+5.163*10**(-9)*t_des**4*x)*0.001\n"
      ]
    }
  ]
}