{
  "nbformat": 4,
  "nbformat_minor": 0,
  "metadata": {
    "colab": {
      "name": "Pottasium Formate Specific heat capacity.ipynb",
      "provenance": [],
      "authorship_tag": "ABX9TyPgsRxzJFeHc8Xtg2d/J0H6",
      "include_colab_link": true
    },
    "kernelspec": {
      "name": "python3",
      "display_name": "Python 3"
    },
    "language_info": {
      "name": "python"
    }
  },
  "cells": [
    {
      "cell_type": "markdown",
      "metadata": {
        "id": "view-in-github",
        "colab_type": "text"
      },
      "source": [
        "<a href=\"https://colab.research.google.com/github/maheshmahajan133/Performance-Prediction-of-packed-bed-liquid-desiccant-de-humidification-system-operating-with-novel-/blob/main/Pottasium_Formate_Specific_heat_capacity.ipynb\" target=\"_parent\"><img src=\"https://colab.research.google.com/assets/colab-badge.svg\" alt=\"Open In Colab\"/></a>"
      ]
    },
    {
      "cell_type": "code",
      "execution_count": 1,
      "metadata": {
        "id": "PJrbtdi7H-Sb"
      },
      "outputs": [],
      "source": [
        "x=0.4\n",
        "t_des=27.0\n",
        "cp_sol_peta=4228.0298-1.485*t_des+0.01122*t_des**2+0.0001042*t_des**3-44.49*x+0.2287*x**2+0.0003806*x**3+0.1843*t_des*x-0.002459*t_des*x**2-0.001094*t_des**2*x+0.00001727*t_des**2*x**2"
      ]
    },
    {
      "cell_type": "markdown",
      "source": [
        ""
      ],
      "metadata": {
        "id": "61spiaowIlqX"
      }
    }
  ]
}